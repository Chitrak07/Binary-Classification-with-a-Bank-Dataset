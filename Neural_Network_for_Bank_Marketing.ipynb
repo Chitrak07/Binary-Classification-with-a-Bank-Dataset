{
  "metadata": {
    "kernelspec": {
      "language": "python",
      "display_name": "Python 3",
      "name": "python3"
    },
    "language_info": {
      "name": "python",
      "version": "3.11.13",
      "mimetype": "text/x-python",
      "codemirror_mode": {
        "name": "ipython",
        "version": 3
      },
      "pygments_lexer": "ipython3",
      "nbconvert_exporter": "python",
      "file_extension": ".py"
    },
    "kaggle": {
      "accelerator": "none",
      "dataSources": [
        {
          "sourceId": 91719,
          "databundleVersionId": 12937777,
          "sourceType": "competition"
        }
      ],
      "dockerImageVersionId": 31089,
      "isInternetEnabled": true,
      "language": "python",
      "sourceType": "notebook",
      "isGpuEnabled": false
    },
    "colab": {
      "name": "Neural Network for Bank Marketing",
      "provenance": []
    },
    "widgets": {
      "application/vnd.jupyter.widget-state+json": {
        "215eb37ca3f14e1caf10edab0900b59a": {
          "model_module": "@jupyter-widgets/controls",
          "model_name": "VBoxModel",
          "model_module_version": "1.5.0",
          "state": {
            "_dom_classes": [],
            "_model_module": "@jupyter-widgets/controls",
            "_model_module_version": "1.5.0",
            "_model_name": "VBoxModel",
            "_view_count": null,
            "_view_module": "@jupyter-widgets/controls",
            "_view_module_version": "1.5.0",
            "_view_name": "VBoxView",
            "box_style": "",
            "children": [
              "IPY_MODEL_19840659c7954e3687618dbf9a42cb38",
              "IPY_MODEL_36edca85f24743449bdf6eaa050d5966",
              "IPY_MODEL_5411a3f299e54e4d996200d09251a71c"
            ],
            "layout": "IPY_MODEL_52eb998228a540bebc36dd58b8a53c69"
          }
        },
        "539bdc32a3f0455f9f3436f32d586705": {
          "model_module": "@jupyter-widgets/controls",
          "model_name": "HTMLModel",
          "model_module_version": "1.5.0",
          "state": {
            "_dom_classes": [],
            "_model_module": "@jupyter-widgets/controls",
            "_model_module_version": "1.5.0",
            "_model_name": "HTMLModel",
            "_view_count": null,
            "_view_module": "@jupyter-widgets/controls",
            "_view_module_version": "1.5.0",
            "_view_name": "HTMLView",
            "description": "",
            "description_tooltip": null,
            "layout": "IPY_MODEL_ae95e341243b4dc58e485fab56c78898",
            "placeholder": "​",
            "style": "IPY_MODEL_ecd0d9b6beaf41198ce9690c26be3176",
            "value": "<center> <img\nsrc=https://www.kaggle.com/static/images/site-logo.png\nalt='Kaggle'> <br> Create an API token from <a\nhref=\"https://www.kaggle.com/settings/account\" target=\"_blank\">your Kaggle\nsettings page</a> and paste it below along with your Kaggle username. <br> </center>"
          }
        },
        "1377589434284caeb091ac9bfc1d85ef": {
          "model_module": "@jupyter-widgets/controls",
          "model_name": "TextModel",
          "model_module_version": "1.5.0",
          "state": {
            "_dom_classes": [],
            "_model_module": "@jupyter-widgets/controls",
            "_model_module_version": "1.5.0",
            "_model_name": "TextModel",
            "_view_count": null,
            "_view_module": "@jupyter-widgets/controls",
            "_view_module_version": "1.5.0",
            "_view_name": "TextView",
            "continuous_update": true,
            "description": "Username:",
            "description_tooltip": null,
            "disabled": false,
            "layout": "IPY_MODEL_37a5611927584ad28d2ea5ad730264fd",
            "placeholder": "​",
            "style": "IPY_MODEL_3506538d899b439b9486518b3b117db6",
            "value": "shubhamkumarvaish "
          }
        },
        "e027e97a1d4a47adb19cf51c8517d381": {
          "model_module": "@jupyter-widgets/controls",
          "model_name": "PasswordModel",
          "model_module_version": "1.5.0",
          "state": {
            "_dom_classes": [],
            "_model_module": "@jupyter-widgets/controls",
            "_model_module_version": "1.5.0",
            "_model_name": "PasswordModel",
            "_view_count": null,
            "_view_module": "@jupyter-widgets/controls",
            "_view_module_version": "1.5.0",
            "_view_name": "PasswordView",
            "continuous_update": true,
            "description": "Token:",
            "description_tooltip": null,
            "disabled": false,
            "layout": "IPY_MODEL_13a0771de02f4cd98f518ca1d5f2e491",
            "placeholder": "​",
            "style": "IPY_MODEL_bcb7836997ad49b69a19e0e3fb6bf232",
            "value": ""
          }
        },
        "3922c3a6e3ba45f995d011315229b870": {
          "model_module": "@jupyter-widgets/controls",
          "model_name": "ButtonModel",
          "model_module_version": "1.5.0",
          "state": {
            "_dom_classes": [],
            "_model_module": "@jupyter-widgets/controls",
            "_model_module_version": "1.5.0",
            "_model_name": "ButtonModel",
            "_view_count": null,
            "_view_module": "@jupyter-widgets/controls",
            "_view_module_version": "1.5.0",
            "_view_name": "ButtonView",
            "button_style": "",
            "description": "Login",
            "disabled": false,
            "icon": "",
            "layout": "IPY_MODEL_30e83f2c4e114d7296a996713b0480e3",
            "style": "IPY_MODEL_bcce0994f9b249bdb1cb3a0340485a2e",
            "tooltip": ""
          }
        },
        "960b811bbe3d40538b127e78c589d55f": {
          "model_module": "@jupyter-widgets/controls",
          "model_name": "HTMLModel",
          "model_module_version": "1.5.0",
          "state": {
            "_dom_classes": [],
            "_model_module": "@jupyter-widgets/controls",
            "_model_module_version": "1.5.0",
            "_model_name": "HTMLModel",
            "_view_count": null,
            "_view_module": "@jupyter-widgets/controls",
            "_view_module_version": "1.5.0",
            "_view_name": "HTMLView",
            "description": "",
            "description_tooltip": null,
            "layout": "IPY_MODEL_cd9def8c2ab94e0aa53bfbaa4fd8533b",
            "placeholder": "​",
            "style": "IPY_MODEL_8a3136281a1343a9accfeb492e8106ee",
            "value": "\n<b>Thank You</b></center>"
          }
        },
        "52eb998228a540bebc36dd58b8a53c69": {
          "model_module": "@jupyter-widgets/base",
          "model_name": "LayoutModel",
          "model_module_version": "1.2.0",
          "state": {
            "_model_module": "@jupyter-widgets/base",
            "_model_module_version": "1.2.0",
            "_model_name": "LayoutModel",
            "_view_count": null,
            "_view_module": "@jupyter-widgets/base",
            "_view_module_version": "1.2.0",
            "_view_name": "LayoutView",
            "align_content": null,
            "align_items": "center",
            "align_self": null,
            "border": null,
            "bottom": null,
            "display": "flex",
            "flex": null,
            "flex_flow": "column",
            "grid_area": null,
            "grid_auto_columns": null,
            "grid_auto_flow": null,
            "grid_auto_rows": null,
            "grid_column": null,
            "grid_gap": null,
            "grid_row": null,
            "grid_template_areas": null,
            "grid_template_columns": null,
            "grid_template_rows": null,
            "height": null,
            "justify_content": null,
            "justify_items": null,
            "left": null,
            "margin": null,
            "max_height": null,
            "max_width": null,
            "min_height": null,
            "min_width": null,
            "object_fit": null,
            "object_position": null,
            "order": null,
            "overflow": null,
            "overflow_x": null,
            "overflow_y": null,
            "padding": null,
            "right": null,
            "top": null,
            "visibility": null,
            "width": "50%"
          }
        },
        "ae95e341243b4dc58e485fab56c78898": {
          "model_module": "@jupyter-widgets/base",
          "model_name": "LayoutModel",
          "model_module_version": "1.2.0",
          "state": {
            "_model_module": "@jupyter-widgets/base",
            "_model_module_version": "1.2.0",
            "_model_name": "LayoutModel",
            "_view_count": null,
            "_view_module": "@jupyter-widgets/base",
            "_view_module_version": "1.2.0",
            "_view_name": "LayoutView",
            "align_content": null,
            "align_items": null,
            "align_self": null,
            "border": null,
            "bottom": null,
            "display": null,
            "flex": null,
            "flex_flow": null,
            "grid_area": null,
            "grid_auto_columns": null,
            "grid_auto_flow": null,
            "grid_auto_rows": null,
            "grid_column": null,
            "grid_gap": null,
            "grid_row": null,
            "grid_template_areas": null,
            "grid_template_columns": null,
            "grid_template_rows": null,
            "height": null,
            "justify_content": null,
            "justify_items": null,
            "left": null,
            "margin": null,
            "max_height": null,
            "max_width": null,
            "min_height": null,
            "min_width": null,
            "object_fit": null,
            "object_position": null,
            "order": null,
            "overflow": null,
            "overflow_x": null,
            "overflow_y": null,
            "padding": null,
            "right": null,
            "top": null,
            "visibility": null,
            "width": null
          }
        },
        "ecd0d9b6beaf41198ce9690c26be3176": {
          "model_module": "@jupyter-widgets/controls",
          "model_name": "DescriptionStyleModel",
          "model_module_version": "1.5.0",
          "state": {
            "_model_module": "@jupyter-widgets/controls",
            "_model_module_version": "1.5.0",
            "_model_name": "DescriptionStyleModel",
            "_view_count": null,
            "_view_module": "@jupyter-widgets/base",
            "_view_module_version": "1.2.0",
            "_view_name": "StyleView",
            "description_width": ""
          }
        },
        "37a5611927584ad28d2ea5ad730264fd": {
          "model_module": "@jupyter-widgets/base",
          "model_name": "LayoutModel",
          "model_module_version": "1.2.0",
          "state": {
            "_model_module": "@jupyter-widgets/base",
            "_model_module_version": "1.2.0",
            "_model_name": "LayoutModel",
            "_view_count": null,
            "_view_module": "@jupyter-widgets/base",
            "_view_module_version": "1.2.0",
            "_view_name": "LayoutView",
            "align_content": null,
            "align_items": null,
            "align_self": null,
            "border": null,
            "bottom": null,
            "display": null,
            "flex": null,
            "flex_flow": null,
            "grid_area": null,
            "grid_auto_columns": null,
            "grid_auto_flow": null,
            "grid_auto_rows": null,
            "grid_column": null,
            "grid_gap": null,
            "grid_row": null,
            "grid_template_areas": null,
            "grid_template_columns": null,
            "grid_template_rows": null,
            "height": null,
            "justify_content": null,
            "justify_items": null,
            "left": null,
            "margin": null,
            "max_height": null,
            "max_width": null,
            "min_height": null,
            "min_width": null,
            "object_fit": null,
            "object_position": null,
            "order": null,
            "overflow": null,
            "overflow_x": null,
            "overflow_y": null,
            "padding": null,
            "right": null,
            "top": null,
            "visibility": null,
            "width": null
          }
        },
        "3506538d899b439b9486518b3b117db6": {
          "model_module": "@jupyter-widgets/controls",
          "model_name": "DescriptionStyleModel",
          "model_module_version": "1.5.0",
          "state": {
            "_model_module": "@jupyter-widgets/controls",
            "_model_module_version": "1.5.0",
            "_model_name": "DescriptionStyleModel",
            "_view_count": null,
            "_view_module": "@jupyter-widgets/base",
            "_view_module_version": "1.2.0",
            "_view_name": "StyleView",
            "description_width": ""
          }
        },
        "13a0771de02f4cd98f518ca1d5f2e491": {
          "model_module": "@jupyter-widgets/base",
          "model_name": "LayoutModel",
          "model_module_version": "1.2.0",
          "state": {
            "_model_module": "@jupyter-widgets/base",
            "_model_module_version": "1.2.0",
            "_model_name": "LayoutModel",
            "_view_count": null,
            "_view_module": "@jupyter-widgets/base",
            "_view_module_version": "1.2.0",
            "_view_name": "LayoutView",
            "align_content": null,
            "align_items": null,
            "align_self": null,
            "border": null,
            "bottom": null,
            "display": null,
            "flex": null,
            "flex_flow": null,
            "grid_area": null,
            "grid_auto_columns": null,
            "grid_auto_flow": null,
            "grid_auto_rows": null,
            "grid_column": null,
            "grid_gap": null,
            "grid_row": null,
            "grid_template_areas": null,
            "grid_template_columns": null,
            "grid_template_rows": null,
            "height": null,
            "justify_content": null,
            "justify_items": null,
            "left": null,
            "margin": null,
            "max_height": null,
            "max_width": null,
            "min_height": null,
            "min_width": null,
            "object_fit": null,
            "object_position": null,
            "order": null,
            "overflow": null,
            "overflow_x": null,
            "overflow_y": null,
            "padding": null,
            "right": null,
            "top": null,
            "visibility": null,
            "width": null
          }
        },
        "bcb7836997ad49b69a19e0e3fb6bf232": {
          "model_module": "@jupyter-widgets/controls",
          "model_name": "DescriptionStyleModel",
          "model_module_version": "1.5.0",
          "state": {
            "_model_module": "@jupyter-widgets/controls",
            "_model_module_version": "1.5.0",
            "_model_name": "DescriptionStyleModel",
            "_view_count": null,
            "_view_module": "@jupyter-widgets/base",
            "_view_module_version": "1.2.0",
            "_view_name": "StyleView",
            "description_width": ""
          }
        },
        "30e83f2c4e114d7296a996713b0480e3": {
          "model_module": "@jupyter-widgets/base",
          "model_name": "LayoutModel",
          "model_module_version": "1.2.0",
          "state": {
            "_model_module": "@jupyter-widgets/base",
            "_model_module_version": "1.2.0",
            "_model_name": "LayoutModel",
            "_view_count": null,
            "_view_module": "@jupyter-widgets/base",
            "_view_module_version": "1.2.0",
            "_view_name": "LayoutView",
            "align_content": null,
            "align_items": null,
            "align_self": null,
            "border": null,
            "bottom": null,
            "display": null,
            "flex": null,
            "flex_flow": null,
            "grid_area": null,
            "grid_auto_columns": null,
            "grid_auto_flow": null,
            "grid_auto_rows": null,
            "grid_column": null,
            "grid_gap": null,
            "grid_row": null,
            "grid_template_areas": null,
            "grid_template_columns": null,
            "grid_template_rows": null,
            "height": null,
            "justify_content": null,
            "justify_items": null,
            "left": null,
            "margin": null,
            "max_height": null,
            "max_width": null,
            "min_height": null,
            "min_width": null,
            "object_fit": null,
            "object_position": null,
            "order": null,
            "overflow": null,
            "overflow_x": null,
            "overflow_y": null,
            "padding": null,
            "right": null,
            "top": null,
            "visibility": null,
            "width": null
          }
        },
        "bcce0994f9b249bdb1cb3a0340485a2e": {
          "model_module": "@jupyter-widgets/controls",
          "model_name": "ButtonStyleModel",
          "model_module_version": "1.5.0",
          "state": {
            "_model_module": "@jupyter-widgets/controls",
            "_model_module_version": "1.5.0",
            "_model_name": "ButtonStyleModel",
            "_view_count": null,
            "_view_module": "@jupyter-widgets/base",
            "_view_module_version": "1.2.0",
            "_view_name": "StyleView",
            "button_color": null,
            "font_weight": ""
          }
        },
        "cd9def8c2ab94e0aa53bfbaa4fd8533b": {
          "model_module": "@jupyter-widgets/base",
          "model_name": "LayoutModel",
          "model_module_version": "1.2.0",
          "state": {
            "_model_module": "@jupyter-widgets/base",
            "_model_module_version": "1.2.0",
            "_model_name": "LayoutModel",
            "_view_count": null,
            "_view_module": "@jupyter-widgets/base",
            "_view_module_version": "1.2.0",
            "_view_name": "LayoutView",
            "align_content": null,
            "align_items": null,
            "align_self": null,
            "border": null,
            "bottom": null,
            "display": null,
            "flex": null,
            "flex_flow": null,
            "grid_area": null,
            "grid_auto_columns": null,
            "grid_auto_flow": null,
            "grid_auto_rows": null,
            "grid_column": null,
            "grid_gap": null,
            "grid_row": null,
            "grid_template_areas": null,
            "grid_template_columns": null,
            "grid_template_rows": null,
            "height": null,
            "justify_content": null,
            "justify_items": null,
            "left": null,
            "margin": null,
            "max_height": null,
            "max_width": null,
            "min_height": null,
            "min_width": null,
            "object_fit": null,
            "object_position": null,
            "order": null,
            "overflow": null,
            "overflow_x": null,
            "overflow_y": null,
            "padding": null,
            "right": null,
            "top": null,
            "visibility": null,
            "width": null
          }
        },
        "8a3136281a1343a9accfeb492e8106ee": {
          "model_module": "@jupyter-widgets/controls",
          "model_name": "DescriptionStyleModel",
          "model_module_version": "1.5.0",
          "state": {
            "_model_module": "@jupyter-widgets/controls",
            "_model_module_version": "1.5.0",
            "_model_name": "DescriptionStyleModel",
            "_view_count": null,
            "_view_module": "@jupyter-widgets/base",
            "_view_module_version": "1.2.0",
            "_view_name": "StyleView",
            "description_width": ""
          }
        },
        "4ce8ad13687d4cf5b6a97e5ce87a0584": {
          "model_module": "@jupyter-widgets/controls",
          "model_name": "LabelModel",
          "model_module_version": "1.5.0",
          "state": {
            "_dom_classes": [],
            "_model_module": "@jupyter-widgets/controls",
            "_model_module_version": "1.5.0",
            "_model_name": "LabelModel",
            "_view_count": null,
            "_view_module": "@jupyter-widgets/controls",
            "_view_module_version": "1.5.0",
            "_view_name": "LabelView",
            "description": "",
            "description_tooltip": null,
            "layout": "IPY_MODEL_fddd71ecf1d946638fe507cfbf6111b3",
            "placeholder": "​",
            "style": "IPY_MODEL_46881c392e1f404d8a1e60b8a7441385",
            "value": "Connecting..."
          }
        },
        "fddd71ecf1d946638fe507cfbf6111b3": {
          "model_module": "@jupyter-widgets/base",
          "model_name": "LayoutModel",
          "model_module_version": "1.2.0",
          "state": {
            "_model_module": "@jupyter-widgets/base",
            "_model_module_version": "1.2.0",
            "_model_name": "LayoutModel",
            "_view_count": null,
            "_view_module": "@jupyter-widgets/base",
            "_view_module_version": "1.2.0",
            "_view_name": "LayoutView",
            "align_content": null,
            "align_items": null,
            "align_self": null,
            "border": null,
            "bottom": null,
            "display": null,
            "flex": null,
            "flex_flow": null,
            "grid_area": null,
            "grid_auto_columns": null,
            "grid_auto_flow": null,
            "grid_auto_rows": null,
            "grid_column": null,
            "grid_gap": null,
            "grid_row": null,
            "grid_template_areas": null,
            "grid_template_columns": null,
            "grid_template_rows": null,
            "height": null,
            "justify_content": null,
            "justify_items": null,
            "left": null,
            "margin": null,
            "max_height": null,
            "max_width": null,
            "min_height": null,
            "min_width": null,
            "object_fit": null,
            "object_position": null,
            "order": null,
            "overflow": null,
            "overflow_x": null,
            "overflow_y": null,
            "padding": null,
            "right": null,
            "top": null,
            "visibility": null,
            "width": null
          }
        },
        "46881c392e1f404d8a1e60b8a7441385": {
          "model_module": "@jupyter-widgets/controls",
          "model_name": "DescriptionStyleModel",
          "model_module_version": "1.5.0",
          "state": {
            "_model_module": "@jupyter-widgets/controls",
            "_model_module_version": "1.5.0",
            "_model_name": "DescriptionStyleModel",
            "_view_count": null,
            "_view_module": "@jupyter-widgets/base",
            "_view_module_version": "1.2.0",
            "_view_name": "StyleView",
            "description_width": ""
          }
        },
        "19840659c7954e3687618dbf9a42cb38": {
          "model_module": "@jupyter-widgets/controls",
          "model_name": "LabelModel",
          "model_module_version": "1.5.0",
          "state": {
            "_dom_classes": [],
            "_model_module": "@jupyter-widgets/controls",
            "_model_module_version": "1.5.0",
            "_model_name": "LabelModel",
            "_view_count": null,
            "_view_module": "@jupyter-widgets/controls",
            "_view_module_version": "1.5.0",
            "_view_name": "LabelView",
            "description": "",
            "description_tooltip": null,
            "layout": "IPY_MODEL_b40de586beb74b9987a1e7a7a9191dfc",
            "placeholder": "​",
            "style": "IPY_MODEL_bc69533f83eb4ea3916114c90f987dfe",
            "value": "401 Client Error."
          }
        },
        "36edca85f24743449bdf6eaa050d5966": {
          "model_module": "@jupyter-widgets/controls",
          "model_name": "LabelModel",
          "model_module_version": "1.5.0",
          "state": {
            "_dom_classes": [],
            "_model_module": "@jupyter-widgets/controls",
            "_model_module_version": "1.5.0",
            "_model_name": "LabelModel",
            "_view_count": null,
            "_view_module": "@jupyter-widgets/controls",
            "_view_module_version": "1.5.0",
            "_view_name": "LabelView",
            "description": "",
            "description_tooltip": null,
            "layout": "IPY_MODEL_34a0db7abbbc4131a066d02a2705691b",
            "placeholder": "​",
            "style": "IPY_MODEL_2f3b4d523ada43f284739f38681c5301",
            "value": "You don't have permission to access resource at URL: https://www.kaggle.com/api/v1/hello. The server reported the following issues: Unauthenticated"
          }
        },
        "5411a3f299e54e4d996200d09251a71c": {
          "model_module": "@jupyter-widgets/controls",
          "model_name": "LabelModel",
          "model_module_version": "1.5.0",
          "state": {
            "_dom_classes": [],
            "_model_module": "@jupyter-widgets/controls",
            "_model_module_version": "1.5.0",
            "_model_name": "LabelModel",
            "_view_count": null,
            "_view_module": "@jupyter-widgets/controls",
            "_view_module_version": "1.5.0",
            "_view_name": "LabelView",
            "description": "",
            "description_tooltip": null,
            "layout": "IPY_MODEL_a48a86889f2745e7ac17f83786f1772e",
            "placeholder": "​",
            "style": "IPY_MODEL_74df33de6dbd4831a20acce479fb992c",
            "value": "Please make sure you are authenticated if you are trying to access a private resource or a resource requiring consent."
          }
        },
        "b40de586beb74b9987a1e7a7a9191dfc": {
          "model_module": "@jupyter-widgets/base",
          "model_name": "LayoutModel",
          "model_module_version": "1.2.0",
          "state": {
            "_model_module": "@jupyter-widgets/base",
            "_model_module_version": "1.2.0",
            "_model_name": "LayoutModel",
            "_view_count": null,
            "_view_module": "@jupyter-widgets/base",
            "_view_module_version": "1.2.0",
            "_view_name": "LayoutView",
            "align_content": null,
            "align_items": null,
            "align_self": null,
            "border": null,
            "bottom": null,
            "display": null,
            "flex": null,
            "flex_flow": null,
            "grid_area": null,
            "grid_auto_columns": null,
            "grid_auto_flow": null,
            "grid_auto_rows": null,
            "grid_column": null,
            "grid_gap": null,
            "grid_row": null,
            "grid_template_areas": null,
            "grid_template_columns": null,
            "grid_template_rows": null,
            "height": null,
            "justify_content": null,
            "justify_items": null,
            "left": null,
            "margin": null,
            "max_height": null,
            "max_width": null,
            "min_height": null,
            "min_width": null,
            "object_fit": null,
            "object_position": null,
            "order": null,
            "overflow": null,
            "overflow_x": null,
            "overflow_y": null,
            "padding": null,
            "right": null,
            "top": null,
            "visibility": null,
            "width": null
          }
        },
        "bc69533f83eb4ea3916114c90f987dfe": {
          "model_module": "@jupyter-widgets/controls",
          "model_name": "DescriptionStyleModel",
          "model_module_version": "1.5.0",
          "state": {
            "_model_module": "@jupyter-widgets/controls",
            "_model_module_version": "1.5.0",
            "_model_name": "DescriptionStyleModel",
            "_view_count": null,
            "_view_module": "@jupyter-widgets/base",
            "_view_module_version": "1.2.0",
            "_view_name": "StyleView",
            "description_width": ""
          }
        },
        "34a0db7abbbc4131a066d02a2705691b": {
          "model_module": "@jupyter-widgets/base",
          "model_name": "LayoutModel",
          "model_module_version": "1.2.0",
          "state": {
            "_model_module": "@jupyter-widgets/base",
            "_model_module_version": "1.2.0",
            "_model_name": "LayoutModel",
            "_view_count": null,
            "_view_module": "@jupyter-widgets/base",
            "_view_module_version": "1.2.0",
            "_view_name": "LayoutView",
            "align_content": null,
            "align_items": null,
            "align_self": null,
            "border": null,
            "bottom": null,
            "display": null,
            "flex": null,
            "flex_flow": null,
            "grid_area": null,
            "grid_auto_columns": null,
            "grid_auto_flow": null,
            "grid_auto_rows": null,
            "grid_column": null,
            "grid_gap": null,
            "grid_row": null,
            "grid_template_areas": null,
            "grid_template_columns": null,
            "grid_template_rows": null,
            "height": null,
            "justify_content": null,
            "justify_items": null,
            "left": null,
            "margin": null,
            "max_height": null,
            "max_width": null,
            "min_height": null,
            "min_width": null,
            "object_fit": null,
            "object_position": null,
            "order": null,
            "overflow": null,
            "overflow_x": null,
            "overflow_y": null,
            "padding": null,
            "right": null,
            "top": null,
            "visibility": null,
            "width": null
          }
        },
        "2f3b4d523ada43f284739f38681c5301": {
          "model_module": "@jupyter-widgets/controls",
          "model_name": "DescriptionStyleModel",
          "model_module_version": "1.5.0",
          "state": {
            "_model_module": "@jupyter-widgets/controls",
            "_model_module_version": "1.5.0",
            "_model_name": "DescriptionStyleModel",
            "_view_count": null,
            "_view_module": "@jupyter-widgets/base",
            "_view_module_version": "1.2.0",
            "_view_name": "StyleView",
            "description_width": ""
          }
        },
        "a48a86889f2745e7ac17f83786f1772e": {
          "model_module": "@jupyter-widgets/base",
          "model_name": "LayoutModel",
          "model_module_version": "1.2.0",
          "state": {
            "_model_module": "@jupyter-widgets/base",
            "_model_module_version": "1.2.0",
            "_model_name": "LayoutModel",
            "_view_count": null,
            "_view_module": "@jupyter-widgets/base",
            "_view_module_version": "1.2.0",
            "_view_name": "LayoutView",
            "align_content": null,
            "align_items": null,
            "align_self": null,
            "border": null,
            "bottom": null,
            "display": null,
            "flex": null,
            "flex_flow": null,
            "grid_area": null,
            "grid_auto_columns": null,
            "grid_auto_flow": null,
            "grid_auto_rows": null,
            "grid_column": null,
            "grid_gap": null,
            "grid_row": null,
            "grid_template_areas": null,
            "grid_template_columns": null,
            "grid_template_rows": null,
            "height": null,
            "justify_content": null,
            "justify_items": null,
            "left": null,
            "margin": null,
            "max_height": null,
            "max_width": null,
            "min_height": null,
            "min_width": null,
            "object_fit": null,
            "object_position": null,
            "order": null,
            "overflow": null,
            "overflow_x": null,
            "overflow_y": null,
            "padding": null,
            "right": null,
            "top": null,
            "visibility": null,
            "width": null
          }
        },
        "74df33de6dbd4831a20acce479fb992c": {
          "model_module": "@jupyter-widgets/controls",
          "model_name": "DescriptionStyleModel",
          "model_module_version": "1.5.0",
          "state": {
            "_model_module": "@jupyter-widgets/controls",
            "_model_module_version": "1.5.0",
            "_model_name": "DescriptionStyleModel",
            "_view_count": null,
            "_view_module": "@jupyter-widgets/base",
            "_view_module_version": "1.2.0",
            "_view_name": "StyleView",
            "description_width": ""
          }
        }
      }
    }
  },
  "nbformat_minor": 0,
  "nbformat": 4,
  "cells": [
    {
      "source": [
        "# IMPORTANT: SOME KAGGLE DATA SOURCES ARE PRIVATE\n",
        "# RUN THIS CELL IN ORDER TO IMPORT YOUR KAGGLE DATA SOURCES.\n",
        "import kagglehub\n",
        "kagglehub.login()\n"
      ],
      "metadata": {
        "colab": {
          "base_uri": "https://localhost:8080/",
          "height": 142,
          "referenced_widgets": [
            "215eb37ca3f14e1caf10edab0900b59a",
            "539bdc32a3f0455f9f3436f32d586705",
            "1377589434284caeb091ac9bfc1d85ef",
            "e027e97a1d4a47adb19cf51c8517d381",
            "3922c3a6e3ba45f995d011315229b870",
            "960b811bbe3d40538b127e78c589d55f",
            "52eb998228a540bebc36dd58b8a53c69",
            "ae95e341243b4dc58e485fab56c78898",
            "ecd0d9b6beaf41198ce9690c26be3176",
            "37a5611927584ad28d2ea5ad730264fd",
            "3506538d899b439b9486518b3b117db6",
            "13a0771de02f4cd98f518ca1d5f2e491",
            "bcb7836997ad49b69a19e0e3fb6bf232",
            "30e83f2c4e114d7296a996713b0480e3",
            "bcce0994f9b249bdb1cb3a0340485a2e",
            "cd9def8c2ab94e0aa53bfbaa4fd8533b",
            "8a3136281a1343a9accfeb492e8106ee",
            "4ce8ad13687d4cf5b6a97e5ce87a0584",
            "fddd71ecf1d946638fe507cfbf6111b3",
            "46881c392e1f404d8a1e60b8a7441385",
            "19840659c7954e3687618dbf9a42cb38",
            "36edca85f24743449bdf6eaa050d5966",
            "5411a3f299e54e4d996200d09251a71c",
            "b40de586beb74b9987a1e7a7a9191dfc",
            "bc69533f83eb4ea3916114c90f987dfe",
            "34a0db7abbbc4131a066d02a2705691b",
            "2f3b4d523ada43f284739f38681c5301",
            "a48a86889f2745e7ac17f83786f1772e",
            "74df33de6dbd4831a20acce479fb992c"
          ]
        },
        "id": "MXrCk24vGfZp",
        "outputId": "8ec8f064-3675-4874-f022-cfd40fb14f34"
      },
      "cell_type": "code",
      "outputs": [
        {
          "output_type": "display_data",
          "data": {
            "text/plain": [
              "VBox(children=(HTML(value='<center> <img\\nsrc=https://www.kaggle.com/static/images/site-logo.png\\nalt=\\'Kaggle…"
            ],
            "application/vnd.jupyter.widget-view+json": {
              "version_major": 2,
              "version_minor": 0,
              "model_id": "215eb37ca3f14e1caf10edab0900b59a"
            }
          },
          "metadata": {}
        },
        {
          "output_type": "stream",
          "name": "stdout",
          "text": [
            "Kaggle credentials set.\n"
          ]
        }
      ],
      "execution_count": 3
    },
    {
      "cell_type": "markdown",
      "source": [
        "# New Section"
      ],
      "metadata": {
        "id": "uvU9eUKkGngx"
      }
    },
    {
      "cell_type": "markdown",
      "source": [
        "# New Section"
      ],
      "metadata": {
        "id": "KAqh3oGFGofX"
      }
    },
    {
      "source": [
        "# IMPORTANT: RUN THIS CELL IN ORDER TO IMPORT YOUR KAGGLE DATA SOURCES,\n",
        "# THEN FEEL FREE TO DELETE THIS CELL.\n",
        "# NOTE: THIS NOTEBOOK ENVIRONMENT DIFFERS FROM KAGGLE'S PYTHON\n",
        "# ENVIRONMENT SO THERE MAY BE MISSING LIBRARIES USED BY YOUR\n",
        "# NOTEBOOK.\n",
        "\n",
        "playground_series_s5e8_path = kagglehub.competition_download('playground-series-s5e8')\n",
        "\n",
        "print('Data source import complete.')\n"
      ],
      "metadata": {
        "colab": {
          "base_uri": "https://localhost:8080/"
        },
        "id": "iP06Y-R6GfZt",
        "outputId": "a8ab5309-5329-4589-ed39-6101e7fde739"
      },
      "cell_type": "code",
      "outputs": [
        {
          "output_type": "stream",
          "name": "stdout",
          "text": [
            "Downloading from https://www.kaggle.com/api/v1/competitions/data/download-all/playground-series-s5e8...\n"
          ]
        },
        {
          "output_type": "stream",
          "name": "stderr",
          "text": [
            "100%|██████████| 14.7M/14.7M [00:00<00:00, 169MB/s]"
          ]
        },
        {
          "output_type": "stream",
          "name": "stdout",
          "text": [
            "Extracting files...\n"
          ]
        },
        {
          "output_type": "stream",
          "name": "stderr",
          "text": [
            "\n"
          ]
        },
        {
          "output_type": "stream",
          "name": "stdout",
          "text": [
            "Data source import complete.\n"
          ]
        }
      ],
      "execution_count": 4
    },
    {
      "cell_type": "code",
      "source": [
        "import pandas as pd\n",
        "import numpy as np\n",
        "import tensorflow as tf\n",
        "from sklearn.model_selection import train_test_split\n",
        "from sklearn.preprocessing import StandardScaler\n",
        "from tensorflow.keras.callbacks import EarlyStopping\n",
        "\n",
        "# --- 0. Load the Data ---\n",
        "try:\n",
        "    # Corrected file paths for Kaggle environment\n",
        "    train_df = pd.read_csv('/content/train.csv')\n",
        "    test_df = pd.read_csv('/content/test.csv')\n",
        "    print(\"Files loaded successfully!\")\n",
        "except FileNotFoundError as e:\n",
        "    print(f\"File not found. Please ensure the data files are in the correct directory. Error: {e}\")\n",
        "    exit()\n",
        "\n",
        "# --- 1. Data Preparation ---\n",
        "# Separate target and features\n",
        "X = train_df.drop('y', axis=1)\n",
        "y = train_df['y']\n",
        "test_ids = test_df['id']\n",
        "\n",
        "# Combine for consistent processing\n",
        "combined_df = pd.concat([X, test_df], ignore_index=True)\n",
        "\n",
        "# One-Hot Encode Categorical Features\n",
        "categorical_features = combined_df.select_dtypes(include=['object']).columns\n",
        "combined_df = pd.get_dummies(combined_df, columns=categorical_features, drop_first=True)\n",
        "\n",
        "# Separate back into training and testing sets\n",
        "X_processed = combined_df.iloc[:len(train_df)].drop('id', axis=1)\n",
        "X_test_processed = combined_df.iloc[len(train_df):].drop('id', axis=1)\n",
        "\n",
        "# --- 2. Feature Scaling (Crucial for Neural Networks) ---\n",
        "# Identify numerical columns to scale (all columns are now numeric)\n",
        "numerical_cols = X_processed.columns\n",
        "\n",
        "# Initialize the StandardScaler\n",
        "scaler = StandardScaler()\n",
        "\n",
        "# Fit the scaler on the training data and transform both train and test data\n",
        "X_processed_scaled = scaler.fit_transform(X_processed)\n",
        "X_test_processed_scaled = scaler.transform(X_test_processed)\n",
        "\n",
        "\n",
        "# --- 3. Build the Neural Network Model ---\n",
        "# Set random seed for reproducibility\n",
        "tf.random.set_seed(42)\n",
        "\n",
        "# Define the model architecture\n",
        "model = tf.keras.Sequential([\n",
        "    # Input layer - specify the input shape\n",
        "    tf.keras.layers.Input(shape=(X_processed_scaled.shape[1],)),\n",
        "\n",
        "    # First hidden layer\n",
        "    tf.keras.layers.Dense(128, activation='relu'),\n",
        "    tf.keras.layers.Dropout(0.3), # Dropout for regularization\n",
        "\n",
        "    # Second hidden layer\n",
        "    tf.keras.layers.Dense(64, activation='relu'),\n",
        "    tf.keras.layers.Dropout(0.3),\n",
        "\n",
        "    # Third hidden layer\n",
        "    tf.keras.layers.Dense(32, activation='relu'),\n",
        "    tf.keras.layers.Dropout(0.2),\n",
        "\n",
        "    # Output layer - sigmoid for binary classification probability\n",
        "    tf.keras.layers.Dense(1, activation='sigmoid')\n",
        "])\n",
        "\n",
        "# Compile the model\n",
        "model.compile(\n",
        "    optimizer=tf.keras.optimizers.Adam(learning_rate=0.001),\n",
        "    loss='binary_crossentropy',\n",
        "    metrics=[tf.keras.metrics.AUC(name='auc')] # Use AUC as a metric\n",
        ")\n",
        "\n",
        "# Print model summary\n",
        "model.summary()\n",
        "\n",
        "\n",
        "# --- 4. Handle Class Imbalance ---\n",
        "# Calculate class weights\n",
        "neg, pos = np.bincount(y)\n",
        "total = neg + pos\n",
        "class_weight = {0: (1 / neg) * (total / 2.0),\n",
        "                1: (1 / pos) * (total / 2.0)}\n",
        "\n",
        "print(f\"\\nClass weights: {class_weight}\")\n",
        "\n",
        "\n",
        "# --- 5. Train the Model ---\n",
        "print(\"\\nStarting Neural Network training with Early Stopping...\")\n",
        "# Define the Early Stopping callback\n",
        "early_stopping = EarlyStopping(\n",
        "    monitor='val_auc', # Monitor validation AUC\n",
        "    patience=5,       # Number of epochs with no improvement after which training will be stopped.\n",
        "    mode='max',       # Stop when the monitored quantity is maximized\n",
        "    restore_best_weights=True # Restore model weights from the epoch with the best value of the monitored quantity.\n",
        ")\n",
        "\n",
        "history = model.fit(\n",
        "    X_processed_scaled,\n",
        "    y,\n",
        "    epochs=50, # Set a higher number of epochs, as early stopping will stop training when appropriate\n",
        "    batch_size=512,\n",
        "    validation_split=0.2, # Use 20% of data for validation\n",
        "    class_weight=class_weight,\n",
        "    callbacks=[early_stopping], # Add the early stopping callback\n",
        "    verbose=1\n",
        ")\n",
        "print(\"Training complete.\")\n",
        "\n",
        "\n",
        "# --- 6. Prediction and Submission ---\n",
        "print(\"\\nMaking predictions with the trained Neural Network...\")\n",
        "# Predict probabilities on the scaled test set\n",
        "test_probabilities_nn = model.predict(X_test_processed_scaled).flatten() # flatten to get a 1D array\n",
        "\n",
        "# Create and save the new submission file\n",
        "submission_df_nn = pd.DataFrame({'id': test_ids, 'y': test_probabilities_nn})\n",
        "submission_df_nn.to_csv('submission_nn.csv', index=False)\n",
        "\n",
        "print(\"\\nNew submission file 'submission_nn.csv' created successfully!\")\n",
        "print(submission_df_nn.head())"
      ],
      "metadata": {
        "_uuid": "8f2839f25d086af736a60e9eeb907d3b93b6e0e5",
        "_cell_guid": "b1076dfc-b9ad-4769-8c92-a6c4dae69d19",
        "trusted": true,
        "execution": {
          "iopub.status.busy": "2025-08-09T08:39:49.477099Z",
          "iopub.execute_input": "2025-08-09T08:39:49.477408Z",
          "iopub.status.idle": "2025-08-09T08:42:19.71022Z",
          "shell.execute_reply.started": "2025-08-09T08:39:49.477386Z",
          "shell.execute_reply": "2025-08-09T08:42:19.709232Z"
        },
        "colab": {
          "base_uri": "https://localhost:8080/",
          "height": 1000
        },
        "id": "jXKnyR7EGfZt",
        "outputId": "6fe6654b-4bec-4bb7-f94f-815ae6abc15a"
      },
      "outputs": [
        {
          "output_type": "stream",
          "name": "stdout",
          "text": [
            "Files loaded successfully!\n"
          ]
        },
        {
          "output_type": "display_data",
          "data": {
            "text/plain": [
              "\u001b[1mModel: \"sequential_10\"\u001b[0m\n"
            ],
            "text/html": [
              "<pre style=\"white-space:pre;overflow-x:auto;line-height:normal;font-family:Menlo,'DejaVu Sans Mono',consolas,'Courier New',monospace\"><span style=\"font-weight: bold\">Model: \"sequential_10\"</span>\n",
              "</pre>\n"
            ]
          },
          "metadata": {}
        },
        {
          "output_type": "display_data",
          "data": {
            "text/plain": [
              "┏━━━━━━━━━━━━━━━━━━━━━━━━━━━━━━━━━┳━━━━━━━━━━━━━━━━━━━━━━━━┳━━━━━━━━━━━━━━━┓\n",
              "┃\u001b[1m \u001b[0m\u001b[1mLayer (type)                   \u001b[0m\u001b[1m \u001b[0m┃\u001b[1m \u001b[0m\u001b[1mOutput Shape          \u001b[0m\u001b[1m \u001b[0m┃\u001b[1m \u001b[0m\u001b[1m      Param #\u001b[0m\u001b[1m \u001b[0m┃\n",
              "┡━━━━━━━━━━━━━━━━━━━━━━━━━━━━━━━━━╇━━━━━━━━━━━━━━━━━━━━━━━━╇━━━━━━━━━━━━━━━┩\n",
              "│ dense_20 (\u001b[38;5;33mDense\u001b[0m)                │ (\u001b[38;5;45mNone\u001b[0m, \u001b[38;5;34m128\u001b[0m)            │         \u001b[38;5;34m5,504\u001b[0m │\n",
              "├─────────────────────────────────┼────────────────────────┼───────────────┤\n",
              "│ dropout_10 (\u001b[38;5;33mDropout\u001b[0m)            │ (\u001b[38;5;45mNone\u001b[0m, \u001b[38;5;34m128\u001b[0m)            │             \u001b[38;5;34m0\u001b[0m │\n",
              "├─────────────────────────────────┼────────────────────────┼───────────────┤\n",
              "│ dense_21 (\u001b[38;5;33mDense\u001b[0m)                │ (\u001b[38;5;45mNone\u001b[0m, \u001b[38;5;34m64\u001b[0m)             │         \u001b[38;5;34m8,256\u001b[0m │\n",
              "├─────────────────────────────────┼────────────────────────┼───────────────┤\n",
              "│ dropout_11 (\u001b[38;5;33mDropout\u001b[0m)            │ (\u001b[38;5;45mNone\u001b[0m, \u001b[38;5;34m64\u001b[0m)             │             \u001b[38;5;34m0\u001b[0m │\n",
              "├─────────────────────────────────┼────────────────────────┼───────────────┤\n",
              "│ dense_22 (\u001b[38;5;33mDense\u001b[0m)                │ (\u001b[38;5;45mNone\u001b[0m, \u001b[38;5;34m32\u001b[0m)             │         \u001b[38;5;34m2,080\u001b[0m │\n",
              "├─────────────────────────────────┼────────────────────────┼───────────────┤\n",
              "│ dropout_12 (\u001b[38;5;33mDropout\u001b[0m)            │ (\u001b[38;5;45mNone\u001b[0m, \u001b[38;5;34m32\u001b[0m)             │             \u001b[38;5;34m0\u001b[0m │\n",
              "├─────────────────────────────────┼────────────────────────┼───────────────┤\n",
              "│ dense_23 (\u001b[38;5;33mDense\u001b[0m)                │ (\u001b[38;5;45mNone\u001b[0m, \u001b[38;5;34m1\u001b[0m)              │            \u001b[38;5;34m33\u001b[0m │\n",
              "└─────────────────────────────────┴────────────────────────┴───────────────┘\n"
            ],
            "text/html": [
              "<pre style=\"white-space:pre;overflow-x:auto;line-height:normal;font-family:Menlo,'DejaVu Sans Mono',consolas,'Courier New',monospace\">┏━━━━━━━━━━━━━━━━━━━━━━━━━━━━━━━━━┳━━━━━━━━━━━━━━━━━━━━━━━━┳━━━━━━━━━━━━━━━┓\n",
              "┃<span style=\"font-weight: bold\"> Layer (type)                    </span>┃<span style=\"font-weight: bold\"> Output Shape           </span>┃<span style=\"font-weight: bold\">       Param # </span>┃\n",
              "┡━━━━━━━━━━━━━━━━━━━━━━━━━━━━━━━━━╇━━━━━━━━━━━━━━━━━━━━━━━━╇━━━━━━━━━━━━━━━┩\n",
              "│ dense_20 (<span style=\"color: #0087ff; text-decoration-color: #0087ff\">Dense</span>)                │ (<span style=\"color: #00d7ff; text-decoration-color: #00d7ff\">None</span>, <span style=\"color: #00af00; text-decoration-color: #00af00\">128</span>)            │         <span style=\"color: #00af00; text-decoration-color: #00af00\">5,504</span> │\n",
              "├─────────────────────────────────┼────────────────────────┼───────────────┤\n",
              "│ dropout_10 (<span style=\"color: #0087ff; text-decoration-color: #0087ff\">Dropout</span>)            │ (<span style=\"color: #00d7ff; text-decoration-color: #00d7ff\">None</span>, <span style=\"color: #00af00; text-decoration-color: #00af00\">128</span>)            │             <span style=\"color: #00af00; text-decoration-color: #00af00\">0</span> │\n",
              "├─────────────────────────────────┼────────────────────────┼───────────────┤\n",
              "│ dense_21 (<span style=\"color: #0087ff; text-decoration-color: #0087ff\">Dense</span>)                │ (<span style=\"color: #00d7ff; text-decoration-color: #00d7ff\">None</span>, <span style=\"color: #00af00; text-decoration-color: #00af00\">64</span>)             │         <span style=\"color: #00af00; text-decoration-color: #00af00\">8,256</span> │\n",
              "├─────────────────────────────────┼────────────────────────┼───────────────┤\n",
              "│ dropout_11 (<span style=\"color: #0087ff; text-decoration-color: #0087ff\">Dropout</span>)            │ (<span style=\"color: #00d7ff; text-decoration-color: #00d7ff\">None</span>, <span style=\"color: #00af00; text-decoration-color: #00af00\">64</span>)             │             <span style=\"color: #00af00; text-decoration-color: #00af00\">0</span> │\n",
              "├─────────────────────────────────┼────────────────────────┼───────────────┤\n",
              "│ dense_22 (<span style=\"color: #0087ff; text-decoration-color: #0087ff\">Dense</span>)                │ (<span style=\"color: #00d7ff; text-decoration-color: #00d7ff\">None</span>, <span style=\"color: #00af00; text-decoration-color: #00af00\">32</span>)             │         <span style=\"color: #00af00; text-decoration-color: #00af00\">2,080</span> │\n",
              "├─────────────────────────────────┼────────────────────────┼───────────────┤\n",
              "│ dropout_12 (<span style=\"color: #0087ff; text-decoration-color: #0087ff\">Dropout</span>)            │ (<span style=\"color: #00d7ff; text-decoration-color: #00d7ff\">None</span>, <span style=\"color: #00af00; text-decoration-color: #00af00\">32</span>)             │             <span style=\"color: #00af00; text-decoration-color: #00af00\">0</span> │\n",
              "├─────────────────────────────────┼────────────────────────┼───────────────┤\n",
              "│ dense_23 (<span style=\"color: #0087ff; text-decoration-color: #0087ff\">Dense</span>)                │ (<span style=\"color: #00d7ff; text-decoration-color: #00d7ff\">None</span>, <span style=\"color: #00af00; text-decoration-color: #00af00\">1</span>)              │            <span style=\"color: #00af00; text-decoration-color: #00af00\">33</span> │\n",
              "└─────────────────────────────────┴────────────────────────┴───────────────┘\n",
              "</pre>\n"
            ]
          },
          "metadata": {}
        },
        {
          "output_type": "display_data",
          "data": {
            "text/plain": [
              "\u001b[1m Total params: \u001b[0m\u001b[38;5;34m15,873\u001b[0m (62.00 KB)\n"
            ],
            "text/html": [
              "<pre style=\"white-space:pre;overflow-x:auto;line-height:normal;font-family:Menlo,'DejaVu Sans Mono',consolas,'Courier New',monospace\"><span style=\"font-weight: bold\"> Total params: </span><span style=\"color: #00af00; text-decoration-color: #00af00\">15,873</span> (62.00 KB)\n",
              "</pre>\n"
            ]
          },
          "metadata": {}
        },
        {
          "output_type": "display_data",
          "data": {
            "text/plain": [
              "\u001b[1m Trainable params: \u001b[0m\u001b[38;5;34m15,873\u001b[0m (62.00 KB)\n"
            ],
            "text/html": [
              "<pre style=\"white-space:pre;overflow-x:auto;line-height:normal;font-family:Menlo,'DejaVu Sans Mono',consolas,'Courier New',monospace\"><span style=\"font-weight: bold\"> Trainable params: </span><span style=\"color: #00af00; text-decoration-color: #00af00\">15,873</span> (62.00 KB)\n",
              "</pre>\n"
            ]
          },
          "metadata": {}
        },
        {
          "output_type": "display_data",
          "data": {
            "text/plain": [
              "\u001b[1m Non-trainable params: \u001b[0m\u001b[38;5;34m0\u001b[0m (0.00 B)\n"
            ],
            "text/html": [
              "<pre style=\"white-space:pre;overflow-x:auto;line-height:normal;font-family:Menlo,'DejaVu Sans Mono',consolas,'Courier New',monospace\"><span style=\"font-weight: bold\"> Non-trainable params: </span><span style=\"color: #00af00; text-decoration-color: #00af00\">0</span> (0.00 B)\n",
              "</pre>\n"
            ]
          },
          "metadata": {}
        },
        {
          "output_type": "stream",
          "name": "stdout",
          "text": [
            "\n",
            "Class weights: {0: np.float64(0.5686022392314317), 1: np.float64(4.1441959154805055)}\n",
            "\n",
            "Starting Neural Network training with Early Stopping...\n",
            "Epoch 1/50\n",
            "\u001b[1m1172/1172\u001b[0m \u001b[32m━━━━━━━━━━━━━━━━━━━━\u001b[0m\u001b[37m\u001b[0m \u001b[1m11s\u001b[0m 8ms/step - auc: 0.9037 - loss: 0.3775 - val_auc: 0.9514 - val_loss: 0.2795\n",
            "Epoch 2/50\n",
            "\u001b[1m1172/1172\u001b[0m \u001b[32m━━━━━━━━━━━━━━━━━━━━\u001b[0m\u001b[37m\u001b[0m \u001b[1m10s\u001b[0m 7ms/step - auc: 0.9467 - loss: 0.2825 - val_auc: 0.9547 - val_loss: 0.2692\n",
            "Epoch 3/50\n",
            "\u001b[1m1172/1172\u001b[0m \u001b[32m━━━━━━━━━━━━━━━━━━━━\u001b[0m\u001b[37m\u001b[0m \u001b[1m10s\u001b[0m 7ms/step - auc: 0.9505 - loss: 0.2724 - val_auc: 0.9569 - val_loss: 0.2583\n",
            "Epoch 4/50\n",
            "\u001b[1m1172/1172\u001b[0m \u001b[32m━━━━━━━━━━━━━━━━━━━━\u001b[0m\u001b[37m\u001b[0m \u001b[1m10s\u001b[0m 8ms/step - auc: 0.9528 - loss: 0.2664 - val_auc: 0.9588 - val_loss: 0.2605\n",
            "Epoch 5/50\n",
            "\u001b[1m1172/1172\u001b[0m \u001b[32m━━━━━━━━━━━━━━━━━━━━\u001b[0m\u001b[37m\u001b[0m \u001b[1m10s\u001b[0m 8ms/step - auc: 0.9548 - loss: 0.2615 - val_auc: 0.9596 - val_loss: 0.2541\n",
            "Epoch 6/50\n",
            "\u001b[1m1172/1172\u001b[0m \u001b[32m━━━━━━━━━━━━━━━━━━━━\u001b[0m\u001b[37m\u001b[0m \u001b[1m9s\u001b[0m 7ms/step - auc: 0.9561 - loss: 0.2579 - val_auc: 0.9600 - val_loss: 0.2540\n",
            "Epoch 7/50\n",
            "\u001b[1m1172/1172\u001b[0m \u001b[32m━━━━━━━━━━━━━━━━━━━━\u001b[0m\u001b[37m\u001b[0m \u001b[1m10s\u001b[0m 7ms/step - auc: 0.9568 - loss: 0.2555 - val_auc: 0.9603 - val_loss: 0.2506\n",
            "Epoch 8/50\n",
            "\u001b[1m1172/1172\u001b[0m \u001b[32m━━━━━━━━━━━━━━━━━━━━\u001b[0m\u001b[37m\u001b[0m \u001b[1m10s\u001b[0m 8ms/step - auc: 0.9571 - loss: 0.2550 - val_auc: 0.9603 - val_loss: 0.2549\n",
            "Epoch 9/50\n",
            "\u001b[1m1172/1172\u001b[0m \u001b[32m━━━━━━━━━━━━━━━━━━━━\u001b[0m\u001b[37m\u001b[0m \u001b[1m12s\u001b[0m 10ms/step - auc: 0.9575 - loss: 0.2537 - val_auc: 0.9605 - val_loss: 0.2513\n",
            "Epoch 10/50\n",
            "\u001b[1m1172/1172\u001b[0m \u001b[32m━━━━━━━━━━━━━━━━━━━━\u001b[0m\u001b[37m\u001b[0m \u001b[1m18s\u001b[0m 7ms/step - auc: 0.9575 - loss: 0.2535 - val_auc: 0.9606 - val_loss: 0.2534\n",
            "Epoch 11/50\n",
            "\u001b[1m1172/1172\u001b[0m \u001b[32m━━━━━━━━━━━━━━━━━━━━\u001b[0m\u001b[37m\u001b[0m \u001b[1m11s\u001b[0m 8ms/step - auc: 0.9580 - loss: 0.2521 - val_auc: 0.9607 - val_loss: 0.2567\n",
            "Epoch 12/50\n",
            "\u001b[1m1172/1172\u001b[0m \u001b[32m━━━━━━━━━━━━━━━━━━━━\u001b[0m\u001b[37m\u001b[0m \u001b[1m10s\u001b[0m 8ms/step - auc: 0.9582 - loss: 0.2514 - val_auc: 0.9610 - val_loss: 0.2511\n",
            "Epoch 13/50\n",
            "\u001b[1m1172/1172\u001b[0m \u001b[32m━━━━━━━━━━━━━━━━━━━━\u001b[0m\u001b[37m\u001b[0m \u001b[1m9s\u001b[0m 8ms/step - auc: 0.9584 - loss: 0.2507 - val_auc: 0.9607 - val_loss: 0.2540\n",
            "Epoch 14/50\n",
            "\u001b[1m1172/1172\u001b[0m \u001b[32m━━━━━━━━━━━━━━━━━━━━\u001b[0m\u001b[37m\u001b[0m \u001b[1m10s\u001b[0m 7ms/step - auc: 0.9585 - loss: 0.2509 - val_auc: 0.9607 - val_loss: 0.2527\n",
            "Epoch 15/50\n",
            "\u001b[1m1172/1172\u001b[0m \u001b[32m━━━━━━━━━━━━━━━━━━━━\u001b[0m\u001b[37m\u001b[0m \u001b[1m10s\u001b[0m 7ms/step - auc: 0.9587 - loss: 0.2500 - val_auc: 0.9613 - val_loss: 0.2528\n",
            "Epoch 16/50\n",
            "\u001b[1m1172/1172\u001b[0m \u001b[32m━━━━━━━━━━━━━━━━━━━━\u001b[0m\u001b[37m\u001b[0m \u001b[1m10s\u001b[0m 8ms/step - auc: 0.9587 - loss: 0.2503 - val_auc: 0.9613 - val_loss: 0.2484\n",
            "Epoch 17/50\n",
            "\u001b[1m1172/1172\u001b[0m \u001b[32m━━━━━━━━━━━━━━━━━━━━\u001b[0m\u001b[37m\u001b[0m \u001b[1m9s\u001b[0m 8ms/step - auc: 0.9590 - loss: 0.2490 - val_auc: 0.9614 - val_loss: 0.2513\n",
            "Epoch 18/50\n",
            "\u001b[1m1172/1172\u001b[0m \u001b[32m━━━━━━━━━━━━━━━━━━━━\u001b[0m\u001b[37m\u001b[0m \u001b[1m9s\u001b[0m 7ms/step - auc: 0.9589 - loss: 0.2490 - val_auc: 0.9613 - val_loss: 0.2523\n",
            "Epoch 19/50\n",
            "\u001b[1m1172/1172\u001b[0m \u001b[32m━━━━━━━━━━━━━━━━━━━━\u001b[0m\u001b[37m\u001b[0m \u001b[1m10s\u001b[0m 8ms/step - auc: 0.9593 - loss: 0.2483 - val_auc: 0.9614 - val_loss: 0.2476\n",
            "Epoch 20/50\n",
            "\u001b[1m1172/1172\u001b[0m \u001b[32m━━━━━━━━━━━━━━━━━━━━\u001b[0m\u001b[37m\u001b[0m \u001b[1m9s\u001b[0m 8ms/step - auc: 0.9592 - loss: 0.2484 - val_auc: 0.9615 - val_loss: 0.2488\n",
            "Epoch 21/50\n",
            "\u001b[1m1172/1172\u001b[0m \u001b[32m━━━━━━━━━━━━━━━━━━━━\u001b[0m\u001b[37m\u001b[0m \u001b[1m9s\u001b[0m 7ms/step - auc: 0.9595 - loss: 0.2477 - val_auc: 0.9615 - val_loss: 0.2477\n",
            "Epoch 22/50\n",
            "\u001b[1m1172/1172\u001b[0m \u001b[32m━━━━━━━━━━━━━━━━━━━━\u001b[0m\u001b[37m\u001b[0m \u001b[1m10s\u001b[0m 7ms/step - auc: 0.9593 - loss: 0.2483 - val_auc: 0.9614 - val_loss: 0.2499\n",
            "Epoch 23/50\n",
            "\u001b[1m1172/1172\u001b[0m \u001b[32m━━━━━━━━━━━━━━━━━━━━\u001b[0m\u001b[37m\u001b[0m \u001b[1m12s\u001b[0m 9ms/step - auc: 0.9598 - loss: 0.2468 - val_auc: 0.9616 - val_loss: 0.2491\n",
            "Epoch 24/50\n",
            "\u001b[1m1172/1172\u001b[0m \u001b[32m━━━━━━━━━━━━━━━━━━━━\u001b[0m\u001b[37m\u001b[0m \u001b[1m9s\u001b[0m 8ms/step - auc: 0.9597 - loss: 0.2466 - val_auc: 0.9618 - val_loss: 0.2488\n",
            "Epoch 25/50\n",
            "\u001b[1m1172/1172\u001b[0m \u001b[32m━━━━━━━━━━━━━━━━━━━━\u001b[0m\u001b[37m\u001b[0m \u001b[1m10s\u001b[0m 8ms/step - auc: 0.9601 - loss: 0.2455 - val_auc: 0.9620 - val_loss: 0.2478\n",
            "Epoch 26/50\n",
            "\u001b[1m1172/1172\u001b[0m \u001b[32m━━━━━━━━━━━━━━━━━━━━\u001b[0m\u001b[37m\u001b[0m \u001b[1m9s\u001b[0m 7ms/step - auc: 0.9600 - loss: 0.2460 - val_auc: 0.9617 - val_loss: 0.2490\n",
            "Epoch 27/50\n",
            "\u001b[1m1172/1172\u001b[0m \u001b[32m━━━━━━━━━━━━━━━━━━━━\u001b[0m\u001b[37m\u001b[0m \u001b[1m8s\u001b[0m 7ms/step - auc: 0.9600 - loss: 0.2458 - val_auc: 0.9618 - val_loss: 0.2477\n",
            "Epoch 28/50\n",
            "\u001b[1m1172/1172\u001b[0m \u001b[32m━━━━━━━━━━━━━━━━━━━━\u001b[0m\u001b[37m\u001b[0m \u001b[1m13s\u001b[0m 10ms/step - auc: 0.9601 - loss: 0.2455 - val_auc: 0.9619 - val_loss: 0.2472\n",
            "Epoch 29/50\n",
            "\u001b[1m1172/1172\u001b[0m \u001b[32m━━━━━━━━━━━━━━━━━━━━\u001b[0m\u001b[37m\u001b[0m \u001b[1m18s\u001b[0m 8ms/step - auc: 0.9602 - loss: 0.2451 - val_auc: 0.9618 - val_loss: 0.2469\n",
            "Epoch 30/50\n",
            "\u001b[1m1172/1172\u001b[0m \u001b[32m━━━━━━━━━━━━━━━━━━━━\u001b[0m\u001b[37m\u001b[0m \u001b[1m9s\u001b[0m 7ms/step - auc: 0.9604 - loss: 0.2443 - val_auc: 0.9620 - val_loss: 0.2498\n",
            "Epoch 31/50\n",
            "\u001b[1m1172/1172\u001b[0m \u001b[32m━━━━━━━━━━━━━━━━━━━━\u001b[0m\u001b[37m\u001b[0m \u001b[1m10s\u001b[0m 9ms/step - auc: 0.9603 - loss: 0.2448 - val_auc: 0.9621 - val_loss: 0.2451\n",
            "Epoch 32/50\n",
            "\u001b[1m1172/1172\u001b[0m \u001b[32m━━━━━━━━━━━━━━━━━━━━\u001b[0m\u001b[37m\u001b[0m \u001b[1m10s\u001b[0m 9ms/step - auc: 0.9603 - loss: 0.2447 - val_auc: 0.9623 - val_loss: 0.2428\n",
            "Epoch 33/50\n",
            "\u001b[1m1172/1172\u001b[0m \u001b[32m━━━━━━━━━━━━━━━━━━━━\u001b[0m\u001b[37m\u001b[0m \u001b[1m10s\u001b[0m 8ms/step - auc: 0.9603 - loss: 0.2443 - val_auc: 0.9622 - val_loss: 0.2503\n",
            "Epoch 34/50\n",
            "\u001b[1m1172/1172\u001b[0m \u001b[32m━━━━━━━━━━━━━━━━━━━━\u001b[0m\u001b[37m\u001b[0m \u001b[1m8s\u001b[0m 7ms/step - auc: 0.9605 - loss: 0.2445 - val_auc: 0.9621 - val_loss: 0.2491\n",
            "Epoch 35/50\n",
            "\u001b[1m1172/1172\u001b[0m \u001b[32m━━━━━━━━━━━━━━━━━━━━\u001b[0m\u001b[37m\u001b[0m \u001b[1m12s\u001b[0m 8ms/step - auc: 0.9606 - loss: 0.2441 - val_auc: 0.9623 - val_loss: 0.2440\n",
            "Epoch 36/50\n",
            "\u001b[1m1172/1172\u001b[0m \u001b[32m━━━━━━━━━━━━━━━━━━━━\u001b[0m\u001b[37m\u001b[0m \u001b[1m11s\u001b[0m 9ms/step - auc: 0.9608 - loss: 0.2434 - val_auc: 0.9624 - val_loss: 0.2474\n",
            "Epoch 37/50\n",
            "\u001b[1m1172/1172\u001b[0m \u001b[32m━━━━━━━━━━━━━━━━━━━━\u001b[0m\u001b[37m\u001b[0m \u001b[1m9s\u001b[0m 8ms/step - auc: 0.9606 - loss: 0.2440 - val_auc: 0.9623 - val_loss: 0.2457\n",
            "Epoch 38/50\n",
            "\u001b[1m1172/1172\u001b[0m \u001b[32m━━━━━━━━━━━━━━━━━━━━\u001b[0m\u001b[37m\u001b[0m \u001b[1m10s\u001b[0m 7ms/step - auc: 0.9608 - loss: 0.2431 - val_auc: 0.9626 - val_loss: 0.2459\n",
            "Epoch 39/50\n",
            "\u001b[1m1172/1172\u001b[0m \u001b[32m━━━━━━━━━━━━━━━━━━━━\u001b[0m\u001b[37m\u001b[0m \u001b[1m9s\u001b[0m 8ms/step - auc: 0.9609 - loss: 0.2428 - val_auc: 0.9625 - val_loss: 0.2461\n",
            "Epoch 40/50\n",
            "\u001b[1m1172/1172\u001b[0m \u001b[32m━━━━━━━━━━━━━━━━━━━━\u001b[0m\u001b[37m\u001b[0m \u001b[1m10s\u001b[0m 9ms/step - auc: 0.9609 - loss: 0.2431 - val_auc: 0.9622 - val_loss: 0.2436\n",
            "Epoch 41/50\n",
            "\u001b[1m1172/1172\u001b[0m \u001b[32m━━━━━━━━━━━━━━━━━━━━\u001b[0m\u001b[37m\u001b[0m \u001b[1m10s\u001b[0m 9ms/step - auc: 0.9606 - loss: 0.2441 - val_auc: 0.9626 - val_loss: 0.2467\n",
            "Epoch 42/50\n",
            "\u001b[1m1172/1172\u001b[0m \u001b[32m━━━━━━━━━━━━━━━━━━━━\u001b[0m\u001b[37m\u001b[0m \u001b[1m9s\u001b[0m 8ms/step - auc: 0.9609 - loss: 0.2429 - val_auc: 0.9626 - val_loss: 0.2437\n",
            "Epoch 43/50\n",
            "\u001b[1m1172/1172\u001b[0m \u001b[32m━━━━━━━━━━━━━━━━━━━━\u001b[0m\u001b[37m\u001b[0m \u001b[1m10s\u001b[0m 7ms/step - auc: 0.9609 - loss: 0.2431 - val_auc: 0.9625 - val_loss: 0.2419\n",
            "Epoch 44/50\n",
            "\u001b[1m1172/1172\u001b[0m \u001b[32m━━━━━━━━━━━━━━━━━━━━\u001b[0m\u001b[37m\u001b[0m \u001b[1m11s\u001b[0m 8ms/step - auc: 0.9611 - loss: 0.2422 - val_auc: 0.9626 - val_loss: 0.2420\n",
            "Epoch 45/50\n",
            "\u001b[1m1172/1172\u001b[0m \u001b[32m━━━━━━━━━━━━━━━━━━━━\u001b[0m\u001b[37m\u001b[0m \u001b[1m10s\u001b[0m 8ms/step - auc: 0.9611 - loss: 0.2424 - val_auc: 0.9626 - val_loss: 0.2424\n",
            "Epoch 46/50\n",
            "\u001b[1m1172/1172\u001b[0m \u001b[32m━━━━━━━━━━━━━━━━━━━━\u001b[0m\u001b[37m\u001b[0m \u001b[1m10s\u001b[0m 8ms/step - auc: 0.9612 - loss: 0.2416 - val_auc: 0.9629 - val_loss: 0.2438\n",
            "Epoch 47/50\n",
            "\u001b[1m1172/1172\u001b[0m \u001b[32m━━━━━━━━━━━━━━━━━━━━\u001b[0m\u001b[37m\u001b[0m \u001b[1m9s\u001b[0m 7ms/step - auc: 0.9610 - loss: 0.2422 - val_auc: 0.9625 - val_loss: 0.2437\n",
            "Epoch 48/50\n",
            "\u001b[1m1172/1172\u001b[0m \u001b[32m━━━━━━━━━━━━━━━━━━━━\u001b[0m\u001b[37m\u001b[0m \u001b[1m10s\u001b[0m 8ms/step - auc: 0.9611 - loss: 0.2421 - val_auc: 0.9626 - val_loss: 0.2425\n",
            "Epoch 49/50\n",
            "\u001b[1m1172/1172\u001b[0m \u001b[32m━━━━━━━━━━━━━━━━━━━━\u001b[0m\u001b[37m\u001b[0m \u001b[1m10s\u001b[0m 8ms/step - auc: 0.9610 - loss: 0.2428 - val_auc: 0.9626 - val_loss: 0.2415\n",
            "Epoch 50/50\n",
            "\u001b[1m1172/1172\u001b[0m \u001b[32m━━━━━━━━━━━━━━━━━━━━\u001b[0m\u001b[37m\u001b[0m \u001b[1m10s\u001b[0m 8ms/step - auc: 0.9612 - loss: 0.2419 - val_auc: 0.9627 - val_loss: 0.2436\n",
            "Training complete.\n",
            "\n",
            "Making predictions with the trained Neural Network...\n",
            "\u001b[1m7813/7813\u001b[0m \u001b[32m━━━━━━━━━━━━━━━━━━━━\u001b[0m\u001b[37m\u001b[0m \u001b[1m12s\u001b[0m 1ms/step\n",
            "\n",
            "New submission file 'submission_nn.csv' created successfully!\n",
            "       id         y\n",
            "0  750000  0.006814\n",
            "1  750001  0.642856\n",
            "2  750002  0.000854\n",
            "3  750003  0.000009\n",
            "4  750004  0.040586\n"
          ]
        }
      ],
      "execution_count": 15
    },
    {
      "cell_type": "markdown",
      "metadata": {
        "id": "f4fd8142"
      },
      "source": [
        "# Task\n",
        "Enhance the provided Python code for a neural network model by implementing hyperparameter tuning, cross-validation, early stopping, exploring alternative models, feature engineering, further data preprocessing, and considering additional evaluation metrics."
      ]
    },
    {
      "cell_type": "markdown",
      "metadata": {
        "id": "9cf0fad8"
      },
      "source": [
        "## Hyperparameter tuning\n",
        "\n",
        "### Subtask:\n",
        "Experiment with different hyperparameters such as the number of layers, neurons per layer, activation functions, learning rate, and dropout rates to optimize model performance.\n"
      ]
    },
    {
      "cell_type": "markdown",
      "metadata": {
        "id": "13f9e77a"
      },
      "source": [
        "**Reasoning**:\n",
        "The first step is to import the necessary libraries for hyperparameter tuning and define a function to build the Keras model with hyperparameters as arguments. We will use Keras Tuner for hyperparameter tuning.\n",
        "\n"
      ]
    },
    {
      "cell_type": "code",
      "source": [],
      "metadata": {
        "id": "rgbIEDbHI2BE"
      },
      "execution_count": null,
      "outputs": []
    },
    {
      "cell_type": "markdown",
      "metadata": {
        "id": "e141ae73"
      },
      "source": [
        "**Reasoning**:\n",
        "The previous command failed because Keras Tuner is not installed. I need to install it before proceeding.\n",
        "\n"
      ]
    },
    {
      "cell_type": "code",
      "metadata": {
        "colab": {
          "base_uri": "https://localhost:8080/"
        },
        "id": "0tKuoVTBIx42",
        "outputId": "03fdbbf9-d67b-4e09-9f80-4f829f87c6c7"
      },
      "source": [
        "!pip install keras-tuner\n"
      ],
      "execution_count": 7,
      "outputs": [
        {
          "output_type": "stream",
          "name": "stdout",
          "text": [
            "Collecting keras-tuner\n",
            "  Downloading keras_tuner-1.4.7-py3-none-any.whl.metadata (5.4 kB)\n",
            "Requirement already satisfied: keras in /usr/local/lib/python3.11/dist-packages (from keras-tuner) (3.10.0)\n",
            "Requirement already satisfied: packaging in /usr/local/lib/python3.11/dist-packages (from keras-tuner) (25.0)\n",
            "Requirement already satisfied: requests in /usr/local/lib/python3.11/dist-packages (from keras-tuner) (2.32.3)\n",
            "Collecting kt-legacy (from keras-tuner)\n",
            "  Downloading kt_legacy-1.0.5-py3-none-any.whl.metadata (221 bytes)\n",
            "Requirement already satisfied: absl-py in /usr/local/lib/python3.11/dist-packages (from keras->keras-tuner) (1.4.0)\n",
            "Requirement already satisfied: numpy in /usr/local/lib/python3.11/dist-packages (from keras->keras-tuner) (2.0.2)\n",
            "Requirement already satisfied: rich in /usr/local/lib/python3.11/dist-packages (from keras->keras-tuner) (13.9.4)\n",
            "Requirement already satisfied: namex in /usr/local/lib/python3.11/dist-packages (from keras->keras-tuner) (0.1.0)\n",
            "Requirement already satisfied: h5py in /usr/local/lib/python3.11/dist-packages (from keras->keras-tuner) (3.14.0)\n",
            "Requirement already satisfied: optree in /usr/local/lib/python3.11/dist-packages (from keras->keras-tuner) (0.17.0)\n",
            "Requirement already satisfied: ml-dtypes in /usr/local/lib/python3.11/dist-packages (from keras->keras-tuner) (0.5.3)\n",
            "Requirement already satisfied: charset-normalizer<4,>=2 in /usr/local/lib/python3.11/dist-packages (from requests->keras-tuner) (3.4.2)\n",
            "Requirement already satisfied: idna<4,>=2.5 in /usr/local/lib/python3.11/dist-packages (from requests->keras-tuner) (3.10)\n",
            "Requirement already satisfied: urllib3<3,>=1.21.1 in /usr/local/lib/python3.11/dist-packages (from requests->keras-tuner) (2.5.0)\n",
            "Requirement already satisfied: certifi>=2017.4.17 in /usr/local/lib/python3.11/dist-packages (from requests->keras-tuner) (2025.8.3)\n",
            "Requirement already satisfied: typing-extensions>=4.6.0 in /usr/local/lib/python3.11/dist-packages (from optree->keras->keras-tuner) (4.14.1)\n",
            "Requirement already satisfied: markdown-it-py>=2.2.0 in /usr/local/lib/python3.11/dist-packages (from rich->keras->keras-tuner) (3.0.0)\n",
            "Requirement already satisfied: pygments<3.0.0,>=2.13.0 in /usr/local/lib/python3.11/dist-packages (from rich->keras->keras-tuner) (2.19.2)\n",
            "Requirement already satisfied: mdurl~=0.1 in /usr/local/lib/python3.11/dist-packages (from markdown-it-py>=2.2.0->rich->keras->keras-tuner) (0.1.2)\n",
            "Downloading keras_tuner-1.4.7-py3-none-any.whl (129 kB)\n",
            "\u001b[2K   \u001b[90m━━━━━━━━━━━━━━━━━━━━━━━━━━━━━━━━━━━━━━━━\u001b[0m \u001b[32m129.1/129.1 kB\u001b[0m \u001b[31m3.1 MB/s\u001b[0m eta \u001b[36m0:00:00\u001b[0m\n",
            "\u001b[?25hDownloading kt_legacy-1.0.5-py3-none-any.whl (9.6 kB)\n",
            "Installing collected packages: kt-legacy, keras-tuner\n",
            "Successfully installed keras-tuner-1.4.7 kt-legacy-1.0.5\n"
          ]
        }
      ]
    },
    {
      "cell_type": "markdown",
      "metadata": {
        "id": "78ad094d"
      },
      "source": [
        "**Reasoning**:\n",
        "Keras Tuner is now installed. I can proceed with importing the necessary libraries and defining the model building function as planned in the first step.\n",
        "\n"
      ]
    },
    {
      "cell_type": "code",
      "metadata": {
        "id": "30ba297d"
      },
      "source": [
        "import keras_tuner as kt\n",
        "from tensorflow import keras\n",
        "\n",
        "def build_model(hp):\n",
        "    model = keras.Sequential()\n",
        "    model.add(keras.layers.Input(shape=(X_processed_scaled.shape[1],)))\n",
        "\n",
        "    # Tune the number of layers.\n",
        "    for i in range(hp.Int('num_layers', 1, 3)):\n",
        "        model.add(keras.layers.Dense(units=hp.Int('units_' + str(i),\n",
        "                                            min_value=32,\n",
        "                                            max_value=128,\n",
        "                                            step=32),\n",
        "                                      activation=hp.Choice('activation_' + str(i), ['relu', 'tanh'])))\n",
        "        model.add(keras.layers.Dropout(rate=hp.Float('dropout_' + str(i),\n",
        "                                               min_value=0.0,\n",
        "                                               max_value=0.5,\n",
        "                                               step=0.1)))\n",
        "\n",
        "    model.add(keras.layers.Dense(1, activation='sigmoid'))\n",
        "\n",
        "    # Tune the learning rate for the Adam optimizer.\n",
        "    hp_learning_rate = hp.Choice('learning_rate', values=[1e-2, 1e-3, 1e-4])\n",
        "\n",
        "    model.compile(optimizer=keras.optimizers.Adam(learning_rate=hp_learning_rate),\n",
        "                  loss='binary_crossentropy',\n",
        "                  metrics=[tf.keras.metrics.AUC(name='auc')])\n",
        "    return model\n"
      ],
      "execution_count": 8,
      "outputs": []
    },
    {
      "cell_type": "markdown",
      "metadata": {
        "id": "3730fafb"
      },
      "source": [
        "**Reasoning**:\n",
        "Now that the model building function is defined, I need to set up and run the hyperparameter search using Keras Tuner. I will use the Hyperband tuner for this purpose, specifying the objective as maximizing the AUC, the maximum number of epochs, and a directory to save the tuning results. I will then fit the tuner to the scaled training data, including the class weights to handle the imbalance.\n",
        "\n"
      ]
    },
    {
      "cell_type": "code",
      "metadata": {
        "colab": {
          "base_uri": "https://localhost:8080/"
        },
        "id": "a6ed4409",
        "outputId": "66009dc5-a88b-40ce-8359-11b53756d5db"
      },
      "source": [
        "tuner = kt.Hyperband(build_model,\n",
        "                     objective='auc',\n",
        "                     max_epochs=5, # Reduced max_epochs\n",
        "                     directory='my_dir',\n",
        "                     project_name='intro_to_kt')\n",
        "\n",
        "# Split data for validation during tuning\n",
        "X_train_tune, X_val_tune, y_train_tune, y_val_tune = train_test_split(\n",
        "    X_processed_scaled, y, test_size=0.2, random_state=42, stratify=y\n",
        ")\n",
        "\n",
        "# Start the hyperparameter search\n",
        "print(\"Starting hyperparameter tuning...\")\n",
        "tuner.search(X_train_tune, y_train_tune, epochs=5, validation_data=(X_val_tune, y_val_tune), class_weight=class_weight)\n",
        "print(\"Hyperparameter tuning complete.\")"
      ],
      "execution_count": 10,
      "outputs": [
        {
          "output_type": "stream",
          "name": "stdout",
          "text": [
            "Reloading Tuner from my_dir/intro_to_kt/tuner0.json\n",
            "Starting hyperparameter tuning...\n",
            "Hyperparameter tuning complete.\n"
          ]
        }
      ]
    },
    {
      "cell_type": "markdown",
      "metadata": {
        "id": "8350f720"
      },
      "source": [
        "## Cross-Validation\n",
        "\n",
        "### Subtask:\n",
        "Implement k-fold cross-validation to get a more robust estimate of the model's performance.\n",
        "\n",
        "**Reasoning**:\n",
        "Now that we have the best hyperparameters from the tuning process, we will use k-fold cross-validation to train the model on different subsets of the data and evaluate its performance. This will give us a more reliable measure of how well the model is likely to perform on unseen data compared to a single train-validation split."
      ]
    },
    {
      "cell_type": "code",
      "metadata": {
        "colab": {
          "base_uri": "https://localhost:8080/"
        },
        "id": "7629cfb0",
        "outputId": "eb0d9f70-9bc6-4ccc-9dae-59b17daac938"
      },
      "source": [
        "from sklearn.model_selection import StratifiedKFold\n",
        "import numpy as np\n",
        "\n",
        "# Get the best hyperparameters\n",
        "best_hps = tuner.get_best_hyperparameters(num_trials=1)[0]\n",
        "\n",
        "# Build the model with the best hyperparameters - this is not strictly needed for CV,\n",
        "# but kept for consistency if needed later\n",
        "# best_model = build_model(best_hps)\n",
        "\n",
        "# Define the number of folds for cross-validation\n",
        "n_splits = 5\n",
        "skf = StratifiedKFold(n_splits=n_splits, shuffle=True, random_state=42)\n",
        "\n",
        "auc_scores = []\n",
        "fold = 1\n",
        "\n",
        "print(f\"\\nStarting {n_splits}-fold cross-validation...\")\n",
        "\n",
        "# Prepare data for cross-validation (using the full training data)\n",
        "X_cv = X_processed_scaled\n",
        "y_cv = y\n",
        "\n",
        "for train_index, val_index in skf.split(X_cv, y_cv):\n",
        "    print(f\"\\n--- Fold {fold}/{n_splits} ---\")\n",
        "    X_train_fold, X_val_fold = X_cv[train_index], X_cv[val_index]\n",
        "    y_train_fold, y_val_fold = y_cv[train_index], y_cv[val_index]\n",
        "\n",
        "    # Build a fresh model for each fold to avoid data leakage\n",
        "    fold_model = build_model(best_hps)\n",
        "\n",
        "    # Calculate class weights for the current fold's training data\n",
        "    neg_fold, pos_fold = np.bincount(y_train_fold)\n",
        "    total_fold = neg_fold + pos_fold\n",
        "    class_weight_fold = {0: (1 / neg_fold) * (total_fold / 2.0),\n",
        "                         1: (1 / pos_fold) * (total_fold / 2.0)}\n",
        "\n",
        "\n",
        "    # Train the model for the current fold\n",
        "    history_fold = fold_model.fit(\n",
        "        X_train_fold,\n",
        "        y_train_fold,\n",
        "        epochs=5, # Use a fixed number of epochs for CV, or get it from tuner results if available and intended\n",
        "        batch_size=512, # Use a default batch size\n",
        "        validation_data=(X_val_fold, y_val_fold),\n",
        "        class_weight=class_weight_fold,\n",
        "        verbose=0 # Set to 1 to see training progress per epoch\n",
        "    )\n",
        "\n",
        "    # Evaluate the model on the validation fold\n",
        "    scores = fold_model.evaluate(X_val_fold, y_val_fold, verbose=0)\n",
        "    print(f\"Fold {fold} - AUC: {scores[1]:.4f}\")\n",
        "    auc_scores.append(scores[1])\n",
        "\n",
        "    fold += 1\n",
        "\n",
        "print(f\"\\nCross-validation complete. Average AUC: {np.mean(auc_scores):.4f}\")\n",
        "print(f\"AUC scores per fold: {auc_scores}\")"
      ],
      "execution_count": 14,
      "outputs": [
        {
          "output_type": "stream",
          "name": "stdout",
          "text": [
            "\n",
            "Starting 5-fold cross-validation...\n",
            "\n",
            "--- Fold 1/5 ---\n",
            "Fold 1 - AUC: 0.9563\n",
            "\n",
            "--- Fold 2/5 ---\n",
            "Fold 2 - AUC: 0.9557\n",
            "\n",
            "--- Fold 3/5 ---\n",
            "Fold 3 - AUC: 0.9567\n",
            "\n",
            "--- Fold 4/5 ---\n",
            "Fold 4 - AUC: 0.9565\n",
            "\n",
            "--- Fold 5/5 ---\n",
            "Fold 5 - AUC: 0.9566\n",
            "\n",
            "Cross-validation complete. Average AUC: 0.9564\n",
            "AUC scores per fold: [0.956321120262146, 0.9557490348815918, 0.9566560983657837, 0.9564590454101562, 0.9566218256950378]\n"
          ]
        }
      ]
    },
    {
      "cell_type": "markdown",
      "metadata": {
        "id": "1abd0589"
      },
      "source": [
        "## Alternative Models\n",
        "\n",
        "### Subtask:\n",
        "Explore alternative models to potentially achieve better results.\n",
        "\n",
        "**Reasoning**:\n",
        "Exploring alternative models is crucial to determine if a different algorithm might be better suited for the dataset. LightGBM is a gradient boosting framework that is known for its speed and efficiency, and it often performs well on tabular data. We will train a LightGBM model and compare its performance to the neural network."
      ]
    },
    {
      "cell_type": "code",
      "metadata": {
        "colab": {
          "base_uri": "https://localhost:8080/"
        },
        "id": "248cc55c",
        "outputId": "9a883e69-32ee-4853-c12b-21c775aef394"
      },
      "source": [
        "import lightgbm as lgb\n",
        "from sklearn.model_selection import cross_val_score\n",
        "\n",
        "# Initialize LightGBM Classifier\n",
        "lgbm = lgb.LGBMClassifier(random_state=42)\n",
        "\n",
        "print(\"Starting LightGBM training with cross-validation...\")\n",
        "\n",
        "# Perform cross-validation\n",
        "# Using the same StratifiedKFold as before for consistency\n",
        "lgbm_auc_scores = cross_val_score(lgbm, X_processed_scaled, y, cv=skf, scoring='roc_auc')\n",
        "\n",
        "print(f\"\\nLightGBM Cross-validation complete. Average AUC: {np.mean(lgbm_auc_scores):.4f}\")\n",
        "print(f\"LightGBM AUC scores per fold: {lgbm_auc_scores}\")\n",
        "\n",
        "# Train the LightGBM model on the full training data\n",
        "lgbm.fit(X_processed_scaled, y)\n",
        "\n",
        "# Make predictions on the test set\n",
        "test_probabilities_lgbm = lgbm.predict_proba(X_test_processed_scaled)[:, 1]\n",
        "\n",
        "# Create and save the submission file\n",
        "submission_df_lgbm = pd.DataFrame({'id': test_ids, 'y': test_probabilities_lgbm})\n",
        "submission_df_lgbm.to_csv('submission_lgbm.csv', index=False)\n",
        "\n",
        "print(\"\\nNew submission file 'submission_lgbm.csv' created successfully!\")\n",
        "print(submission_df_lgbm.head())"
      ],
      "execution_count": 16,
      "outputs": [
        {
          "output_type": "stream",
          "name": "stdout",
          "text": [
            "Starting LightGBM training with cross-validation...\n",
            "[LightGBM] [Info] Number of positive: 72391, number of negative: 527609\n",
            "[LightGBM] [Info] Auto-choosing row-wise multi-threading, the overhead of testing was 0.204857 seconds.\n",
            "You can set `force_row_wise=true` to remove the overhead.\n",
            "And if memory is not enough, you can set `force_col_wise=true`.\n",
            "[LightGBM] [Info] Total Bins 1064\n",
            "[LightGBM] [Info] Number of data points in the train set: 600000, number of used features: 42\n",
            "[LightGBM] [Info] [binary:BoostFromScore]: pavg=0.120652 -> initscore=-1.986273\n",
            "[LightGBM] [Info] Start training from score -1.986273\n"
          ]
        },
        {
          "output_type": "stream",
          "name": "stderr",
          "text": [
            "/usr/local/lib/python3.11/dist-packages/sklearn/utils/validation.py:2739: UserWarning: X does not have valid feature names, but LGBMClassifier was fitted with feature names\n",
            "  warnings.warn(\n"
          ]
        },
        {
          "output_type": "stream",
          "name": "stdout",
          "text": [
            "[LightGBM] [Info] Number of positive: 72391, number of negative: 527609\n",
            "[LightGBM] [Info] Auto-choosing row-wise multi-threading, the overhead of testing was 0.204270 seconds.\n",
            "You can set `force_row_wise=true` to remove the overhead.\n",
            "And if memory is not enough, you can set `force_col_wise=true`.\n",
            "[LightGBM] [Info] Total Bins 1062\n",
            "[LightGBM] [Info] Number of data points in the train set: 600000, number of used features: 42\n",
            "[LightGBM] [Info] [binary:BoostFromScore]: pavg=0.120652 -> initscore=-1.986273\n",
            "[LightGBM] [Info] Start training from score -1.986273\n"
          ]
        },
        {
          "output_type": "stream",
          "name": "stderr",
          "text": [
            "/usr/local/lib/python3.11/dist-packages/sklearn/utils/validation.py:2739: UserWarning: X does not have valid feature names, but LGBMClassifier was fitted with feature names\n",
            "  warnings.warn(\n"
          ]
        },
        {
          "output_type": "stream",
          "name": "stdout",
          "text": [
            "[LightGBM] [Info] Number of positive: 72390, number of negative: 527610\n",
            "[LightGBM] [Info] Auto-choosing row-wise multi-threading, the overhead of testing was 0.205292 seconds.\n",
            "You can set `force_row_wise=true` to remove the overhead.\n",
            "And if memory is not enough, you can set `force_col_wise=true`.\n",
            "[LightGBM] [Info] Total Bins 1060\n",
            "[LightGBM] [Info] Number of data points in the train set: 600000, number of used features: 42\n",
            "[LightGBM] [Info] [binary:BoostFromScore]: pavg=0.120650 -> initscore=-1.986289\n",
            "[LightGBM] [Info] Start training from score -1.986289\n"
          ]
        },
        {
          "output_type": "stream",
          "name": "stderr",
          "text": [
            "/usr/local/lib/python3.11/dist-packages/sklearn/utils/validation.py:2739: UserWarning: X does not have valid feature names, but LGBMClassifier was fitted with feature names\n",
            "  warnings.warn(\n"
          ]
        },
        {
          "output_type": "stream",
          "name": "stdout",
          "text": [
            "[LightGBM] [Info] Number of positive: 72390, number of negative: 527610\n",
            "[LightGBM] [Info] Auto-choosing row-wise multi-threading, the overhead of testing was 0.206738 seconds.\n",
            "You can set `force_row_wise=true` to remove the overhead.\n",
            "And if memory is not enough, you can set `force_col_wise=true`.\n",
            "[LightGBM] [Info] Total Bins 1057\n",
            "[LightGBM] [Info] Number of data points in the train set: 600000, number of used features: 42\n",
            "[LightGBM] [Info] [binary:BoostFromScore]: pavg=0.120650 -> initscore=-1.986289\n",
            "[LightGBM] [Info] Start training from score -1.986289\n"
          ]
        },
        {
          "output_type": "stream",
          "name": "stderr",
          "text": [
            "/usr/local/lib/python3.11/dist-packages/sklearn/utils/validation.py:2739: UserWarning: X does not have valid feature names, but LGBMClassifier was fitted with feature names\n",
            "  warnings.warn(\n"
          ]
        },
        {
          "output_type": "stream",
          "name": "stdout",
          "text": [
            "[LightGBM] [Info] Number of positive: 72390, number of negative: 527610\n",
            "[LightGBM] [Info] Auto-choosing row-wise multi-threading, the overhead of testing was 0.201793 seconds.\n",
            "You can set `force_row_wise=true` to remove the overhead.\n",
            "And if memory is not enough, you can set `force_col_wise=true`.\n",
            "[LightGBM] [Info] Total Bins 1061\n",
            "[LightGBM] [Info] Number of data points in the train set: 600000, number of used features: 42\n",
            "[LightGBM] [Info] [binary:BoostFromScore]: pavg=0.120650 -> initscore=-1.986289\n",
            "[LightGBM] [Info] Start training from score -1.986289\n"
          ]
        },
        {
          "output_type": "stream",
          "name": "stderr",
          "text": [
            "/usr/local/lib/python3.11/dist-packages/sklearn/utils/validation.py:2739: UserWarning: X does not have valid feature names, but LGBMClassifier was fitted with feature names\n",
            "  warnings.warn(\n"
          ]
        },
        {
          "output_type": "stream",
          "name": "stdout",
          "text": [
            "\n",
            "LightGBM Cross-validation complete. Average AUC: 0.9650\n",
            "LightGBM AUC scores per fold: [0.96568322 0.96449104 0.96457037 0.96544599 0.96468736]\n",
            "[LightGBM] [Info] Number of positive: 90488, number of negative: 659512\n",
            "[LightGBM] [Info] Auto-choosing row-wise multi-threading, the overhead of testing was 0.257824 seconds.\n",
            "You can set `force_row_wise=true` to remove the overhead.\n",
            "And if memory is not enough, you can set `force_col_wise=true`.\n",
            "[LightGBM] [Info] Total Bins 1063\n",
            "[LightGBM] [Info] Number of data points in the train set: 750000, number of used features: 42\n",
            "[LightGBM] [Info] [binary:BoostFromScore]: pavg=0.120651 -> initscore=-1.986283\n",
            "[LightGBM] [Info] Start training from score -1.986283\n"
          ]
        },
        {
          "output_type": "stream",
          "name": "stderr",
          "text": [
            "/usr/local/lib/python3.11/dist-packages/sklearn/utils/validation.py:2739: UserWarning: X does not have valid feature names, but LGBMClassifier was fitted with feature names\n",
            "  warnings.warn(\n"
          ]
        },
        {
          "output_type": "stream",
          "name": "stdout",
          "text": [
            "\n",
            "New submission file 'submission_lgbm.csv' created successfully!\n",
            "       id         y\n",
            "0  750000  0.003172\n",
            "1  750001  0.123749\n",
            "2  750002  0.001596\n",
            "3  750003  0.000669\n",
            "4  750004  0.022046\n"
          ]
        }
      ]
    }
  ]
}